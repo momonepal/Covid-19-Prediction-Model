{
 "cells": [
  {
   "cell_type": "markdown",
   "metadata": {},
   "source": [
    "#  Covid-19 Prediction Model"
   ]
  },
  {
   "cell_type": "markdown",
   "metadata": {},
   "source": [
    "------------------------------------------------"
   ]
  },
  {
   "cell_type": "code",
   "execution_count": 16,
   "metadata": {},
   "outputs": [],
   "source": [
    "import altair as alt\n",
    "import pandas as pd\n",
    "import os\n",
    "import numpy as np \n",
    "import matplotlib.pyplot as plt\n",
    "import sklearn\n",
    "import requests\n",
    "\n",
    "from datetime import datetime, timedelta\n",
    "from sklearn.model_selection import train_test_split\n",
    "from sklearn.metrics import mean_squared_error, r2_score\n",
    "from scipy.optimize import curve_fit"
   ]
  },
  {
   "cell_type": "code",
   "execution_count": null,
   "metadata": {},
   "outputs": [],
   "source": [
    "res = requests.get('https://coronavirus-tracker-api.herokuapp.com/confirmed')\n",
    "res.status_code"
   ]
  },
  {
   "cell_type": "markdown",
   "metadata": {},
   "source": [
    "Used API from coronavirus-tracker-api.herokuapp.com using the get function to receive the data. And then converted it into json format."
   ]
  },
  {
   "cell_type": "code",
   "execution_count": null,
   "metadata": {},
   "outputs": [],
   "source": [
    "resjson = res.json()\n",
    "#resjson"
   ]
  },
  {
   "cell_type": "code",
   "execution_count": null,
   "metadata": {
    "scrolled": true
   },
   "outputs": [],
   "source": [
    "#resjson['locations']"
   ]
  },
  {
   "cell_type": "markdown",
   "metadata": {},
   "source": [
    "Indexed through the nested dictionaries to find the key 'history' to extract the dictionary of all the dates and confirmed cases. \n",
    "\n",
    "Then defined a function so that we can reuse it for any other country."
   ]
  },
  {
   "cell_type": "code",
   "execution_count": null,
   "metadata": {
    "scrolled": true
   },
   "outputs": [],
   "source": [
    "def country(country):\n",
    "    b = resjson['locations']\n",
    "    for a in b:\n",
    "            if a['country'] == country :\n",
    "                print(a)\n",
    "                name = a['country']\n",
    "                latest = a['latest']\n",
    "                history = a['history']\n",
    "    return history\n"
   ]
  },
  {
   "cell_type": "code",
   "execution_count": null,
   "metadata": {
    "scrolled": false
   },
   "outputs": [],
   "source": [
    "history = country('Nepal')"
   ]
  },
  {
   "cell_type": "code",
   "execution_count": null,
   "metadata": {
    "scrolled": false
   },
   "outputs": [],
   "source": [
    "#print(history)"
   ]
  },
  {
   "cell_type": "code",
   "execution_count": null,
   "metadata": {},
   "outputs": [],
   "source": [
    "#wc = pd.DataFrame(list(history.items()), columns=['date','confirmed'])\n",
    "#wc.head()"
   ]
  },
  {
   "cell_type": "markdown",
   "metadata": {},
   "source": [
    "Made a dataframe and then added a column by using map function.\n",
    "\n",
    "The datetime module was used to convert the date intoappropriate timeseries format."
   ]
  },
  {
   "cell_type": "code",
   "execution_count": null,
   "metadata": {
    "scrolled": false
   },
   "outputs": [],
   "source": [
    "#wc['days']= wc['date'].map(lambda x : (datetime.strptime(x, '%m/%d/%y') - datetime.strptime(\"1/22/20\", '%m/%d/%y')).days  )\n",
    "#wc[['date','days','confirmed']]"
   ]
  },
  {
   "cell_type": "code",
   "execution_count": null,
   "metadata": {},
   "outputs": [],
   "source": [
    "def maketable(history): #put country('country_name') as the parameter\n",
    "    wc = pd.DataFrame(list(history.items()), columns=['date','confirmed'])\n",
    "    wc['days']= wc['date'].map(lambda x : (datetime.strptime(x, '%m/%d/%y') - datetime.strptime(\"1/22/20\", '%m/%d/%y')).days  )\n",
    "    return wc\n",
    "wc = maketable(country('Nepal'))\n"
   ]
  },
  {
   "cell_type": "markdown",
   "metadata": {},
   "source": [
    "------------------------------------------------"
   ]
  },
  {
   "cell_type": "markdown",
   "metadata": {},
   "source": [
    "### The Gompertz curve or Gompertz function"
   ]
  },
  {
   "cell_type": "markdown",
   "metadata": {},
   "source": [
    "The Gompertz curve or Gompertz function, is a type of mathematical model for a time series and is named after Benjamin Gompertz (1779-1865). It is a sigmoid function which describes growth as being slowest at the start and end of a given time period. The right-hand or future value asymptote of the function is approached much more gradually by the curve than the left-hand or lower valued asymptote. This is in contrast to the simple logistic function in which both asymptotes are approached by the curve symmetrically. It is a special case of the generalised logistic function. The function was originally designed to describe human mortality, but since has been modified to be applied in biology, with regard to detailing populations. "
   ]
  },
  {
   "cell_type": "markdown",
   "metadata": {},
   "source": [
    "\"![Keywords-Ads-Landing pages flow](11.png)\""
   ]
  },
  {
   "cell_type": "markdown",
   "metadata": {},
   "source": [
    "where,\n",
    "\n",
    "    a is an asymptote, since\n",
    "   "
   ]
  },
  {
   "cell_type": "markdown",
   "metadata": {},
   "source": [
    "\"![Keywords-Ads-Landing pages flow](22.png)\""
   ]
  },
  {
   "cell_type": "markdown",
   "metadata": {},
   "source": [
    "    b sets the displacement along the x-axis (translates the graph to the left or right). Symmetry is when b =log(2).\n",
    "    c sets the growth rate (y scaling)\n",
    "    e is Euler's Number (e = 2.71828...)"
   ]
  },
  {
   "cell_type": "markdown",
   "metadata": {},
   "source": [
    "------------------------------------------------"
   ]
  },
  {
   "cell_type": "code",
   "execution_count": null,
   "metadata": {},
   "outputs": [],
   "source": [
    "def gompertz(a, c, t, t_0):\n",
    "    Q = a * np.exp(-np.exp(-c*(t-t_0)))\n",
    "    return Q\n",
    "\n",
    "x = list(wc['days'])\n",
    "y = list(wc['confirmed'])\n",
    "\n",
    "\n",
    "x_train, x_test, y_train, y_test = train_test_split(x,y,train_size=0.85, test_size=0.15, shuffle=False)\n",
    "\n",
    "x_test_added = x_test + list(range((max(x_test)+1), 200))\n",
    "\n",
    "popt, pcov = curve_fit(gompertz, x_train, y_train, method='trf', bounds=([5, 0, 0],[30*max(y_train),0.15, 245]))\n",
    "a, estimated_c, estimated_t_0 = popt\n",
    "y_pred = gompertz(a, estimated_c, x_train+x_test_added, estimated_t_0)\n",
    "\n",
    "y_pred"
   ]
  },
  {
   "cell_type": "code",
   "execution_count": null,
   "metadata": {},
   "outputs": [],
   "source": [
    "plt.plot(x_train+x_test_added, y_pred, linewidth=2, label='predicted') \n",
    "plt.plot(x, y, linewidth=2, color='r', linestyle='dotted', label='confirmed')\n",
    "plt.title('prediction vs confirmed data on covid-19 cases in Nepal\\n')\n",
    "plt.xlabel('days since January 22 2020')\n",
    "plt.ylabel('confirmed positive cases')\n",
    "plt.legend(loc='upper left') "
   ]
  },
  {
   "cell_type": "markdown",
   "metadata": {},
   "source": [
    "#### After fitting a curve, we see a projection of confirmed cases for 200 days since late January. We can obsereve how the trend changes over time and we can note that the we are approaching the peak of the curve and curve is expected to flatten within the next 50 days. The maximum cases is projected to be aprroximately 1500. "
   ]
  },
  {
   "cell_type": "markdown",
   "metadata": {},
   "source": [
    "-----------------------------------------------------------------------------------------------------------------"
   ]
  },
  {
   "cell_type": "markdown",
   "metadata": {},
   "source": [
    "##### After this we similarly train a model to predict the covid cases fot US."
   ]
  },
  {
   "cell_type": "code",
   "execution_count": null,
   "metadata": {},
   "outputs": [],
   "source": [
    "us = maketable(country(\"US\"))"
   ]
  },
  {
   "cell_type": "code",
   "execution_count": null,
   "metadata": {},
   "outputs": [],
   "source": [
    "x = list(us['days'])\n",
    "y = list(us['confirmed'])\n",
    "\n",
    "\n",
    "x_train, x_test, y_train, y_test = train_test_split(x,y,train_size=0.85, test_size=0.15, shuffle=False)\n",
    "\n",
    "x_test_added = x_test + list(range((max(x_test)+1), 225))\n",
    "\n",
    "popt, pcov = curve_fit(gompertz, x_train, y_train, method='trf', bounds=([1500000, 0, 0],[2*max(y_train),0.1, 175]))\n",
    "a, estimated_c, estimated_t_0 = popt\n",
    "y_pred = gompertz(a, estimated_c, x_train+x_test_added, estimated_t_0)\n",
    "\n",
    "y_pred"
   ]
  },
  {
   "cell_type": "code",
   "execution_count": null,
   "metadata": {},
   "outputs": [],
   "source": [
    "plt.plot(x_train+x_test_added, y_pred, linewidth=2, label='predicted', color = 'y', ) \n",
    "plt.plot(x, y, linewidth=2, color='r', linestyle='dotted', label='confirmed')\n",
    "plt.title('prediction vs confirmed data on covid-19 cases in US\\n')\n",
    "plt.xlabel('days since January 22 2020')\n",
    "plt.ylabel('confirmed positive cases')\n",
    "plt.legend(loc='upper left') "
   ]
  },
  {
   "cell_type": "markdown",
   "metadata": {},
   "source": [
    "#### We trained a model to predict the covid cases fot US andplotted the curve. We can see that the predicted number of cases is approximately 2 million, 250000 additional cases than the current cases.  \n",
    "#### We can obsereve how the trend changes over time and we can note that the curve is flattening and is expected to completely flatten within the next 100 days. "
   ]
  },
  {
   "cell_type": "markdown",
   "metadata": {},
   "source": [
    "----------------------------------------------------------------"
   ]
  },
  {
   "cell_type": "markdown",
   "metadata": {},
   "source": [
    "### Disscussion:"
   ]
  },
  {
   "cell_type": "markdown",
   "metadata": {},
   "source": [
    "We were able to create a model for the prediction of Covid-19 cases using Gompertz function and also observe how the trend is changing and is expected to change over time, how and when the curve is flattening. Although the prediction is approximate and there probably is many complex variable involved, but it does give us a idea of trend that is very close to accurate.\n",
    "\n",
    "Going furthur we can easily create a prediction model for any other country. We can simply enter the country's name in the function : country(\"country's name\") to extract the data we need for that country.\n",
    "\n",
    "I plan to continue improving by adding a logistic function in addition to Gompertz function and comparing them side by side."
   ]
  },
  {
   "cell_type": "markdown",
   "metadata": {},
   "source": [
    "----------------------------------------------------------------------------------------------"
   ]
  },
  {
   "cell_type": "code",
   "execution_count": null,
   "metadata": {},
   "outputs": [],
   "source": []
  },
  {
   "cell_type": "code",
   "execution_count": null,
   "metadata": {},
   "outputs": [],
   "source": []
  }
 ],
 "metadata": {
  "kernelspec": {
   "display_name": "Python 3",
   "language": "python",
   "name": "python3"
  },
  "language_info": {
   "codemirror_mode": {
    "name": "ipython",
    "version": 3
   },
   "file_extension": ".py",
   "mimetype": "text/x-python",
   "name": "python",
   "nbconvert_exporter": "python",
   "pygments_lexer": "ipython3",
   "version": "3.7.4"
  }
 },
 "nbformat": 4,
 "nbformat_minor": 2
}
