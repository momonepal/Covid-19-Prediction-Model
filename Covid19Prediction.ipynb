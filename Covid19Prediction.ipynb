{
 "cells": [
  {
   "cell_type": "markdown",
   "metadata": {},
   "source": [
    "#  Covid-19 Prediction Model"
   ]
  },
  {
   "cell_type": "markdown",
   "metadata": {},
   "source": [
    "------------------------------------------------"
   ]
  },
  {
   "cell_type": "code",
   "execution_count": 355,
   "metadata": {},
   "outputs": [],
   "source": [
    "import altair as alt\n",
    "import pandas as pd\n",
    "import os\n",
    "import numpy as np \n",
    "import matplotlib.pyplot as plt\n",
    "import sklearn\n",
    "import requests\n",
    "\n",
    "from datetime import datetime, timedelta\n",
    "from sklearn.model_selection import train_test_split\n",
    "from sklearn.metrics import mean_squared_error, r2_score\n",
    "from scipy.optimize import curve_fit"
   ]
  },
  {
   "cell_type": "code",
   "execution_count": 356,
   "metadata": {},
   "outputs": [
    {
     "data": {
      "text/plain": [
       "200"
      ]
     },
     "execution_count": 356,
     "metadata": {},
     "output_type": "execute_result"
    }
   ],
   "source": [
    "res = requests.get('https://coronavirus-tracker-api.herokuapp.com/confirmed')\n",
    "res.status_code"
   ]
  },
  {
   "cell_type": "markdown",
   "metadata": {},
   "source": [
    "Used API from coronavirus-tracker-api.herokuapp.com using the get function to receive the data. And then converted it into json format."
   ]
  },
  {
   "cell_type": "code",
   "execution_count": 357,
   "metadata": {},
   "outputs": [],
   "source": [
    "resjson = res.json()\n",
    "#resjson"
   ]
  },
  {
   "cell_type": "code",
   "execution_count": 358,
   "metadata": {
    "scrolled": true
   },
   "outputs": [],
   "source": [
    "#resjson['locations']"
   ]
  },
  {
   "cell_type": "markdown",
   "metadata": {},
   "source": [
    "Indexed through the nested dictionaries to find the key 'history' to extract the dictionary of all the dates and confirmed cases. \n",
    "\n",
    "Then defined a function so that we can reuse it for any other country."
   ]
  },
  {
   "cell_type": "code",
   "execution_count": 359,
   "metadata": {
    "scrolled": true
   },
   "outputs": [],
   "source": [
    "def country(country):\n",
    "    b = resjson['locations']\n",
    "    for a in b:\n",
    "            if a['country'] == country :\n",
    "                print(a)\n",
    "                name = a['country']\n",
    "                latest = a['latest']\n",
    "                history = a['history']\n",
    "    return history\n"
   ]
  },
  {
   "cell_type": "code",
   "execution_count": 360,
   "metadata": {
    "scrolled": false
   },
   "outputs": [
    {
     "name": "stdout",
     "output_type": "stream",
     "text": [
      "{'country': 'Nepal', 'country_code': 'NP', 'province': '', 'coordinates': {'lat': '28.1667', 'long': '84.25'}, 'history': {'1/22/20': 0, '1/23/20': 0, '1/24/20': 0, '1/25/20': 1, '1/26/20': 1, '1/27/20': 1, '1/28/20': 1, '1/29/20': 1, '1/30/20': 1, '1/31/20': 1, '2/1/20': 1, '2/2/20': 1, '2/3/20': 1, '2/4/20': 1, '2/5/20': 1, '2/6/20': 1, '2/7/20': 1, '2/8/20': 1, '2/9/20': 1, '2/10/20': 1, '2/11/20': 1, '2/12/20': 1, '2/13/20': 1, '2/14/20': 1, '2/15/20': 1, '2/16/20': 1, '2/17/20': 1, '2/18/20': 1, '2/19/20': 1, '2/20/20': 1, '2/21/20': 1, '2/22/20': 1, '2/23/20': 1, '2/24/20': 1, '2/25/20': 1, '2/26/20': 1, '2/27/20': 1, '2/28/20': 1, '2/29/20': 1, '3/1/20': 1, '3/2/20': 1, '3/3/20': 1, '3/4/20': 1, '3/5/20': 1, '3/6/20': 1, '3/7/20': 1, '3/8/20': 1, '3/9/20': 1, '3/10/20': 1, '3/11/20': 1, '3/12/20': 1, '3/13/20': 1, '3/14/20': 1, '3/15/20': 1, '3/16/20': 1, '3/17/20': 1, '3/18/20': 1, '3/19/20': 1, '3/20/20': 1, '3/21/20': 1, '3/22/20': 1, '3/23/20': 2, '3/24/20': 2, '3/25/20': 3, '3/26/20': 3, '3/27/20': 4, '3/28/20': 5, '3/29/20': 5, '3/30/20': 5, '3/31/20': 5, '4/1/20': 5, '4/2/20': 6, '4/3/20': 6, '4/4/20': 9, '4/5/20': 9, '4/6/20': 9, '4/7/20': 9, '4/8/20': 9, '4/9/20': 9, '4/10/20': 9, '4/11/20': 9, '4/12/20': 12, '4/13/20': 14, '4/14/20': 16, '4/15/20': 16, '4/16/20': 16, '4/17/20': 30, '4/18/20': 31, '4/19/20': 31, '4/20/20': 31, '4/21/20': 43, '4/22/20': 45, '4/23/20': 48, '4/24/20': 49, '4/25/20': 49, '4/26/20': 52, '4/27/20': 52, '4/28/20': 54, '4/29/20': 57, '4/30/20': 57, '5/1/20': 59, '5/2/20': 59, '5/3/20': 75, '5/4/20': 75, '5/5/20': 82, '5/6/20': 99, '5/7/20': 101, '5/8/20': 102, '5/9/20': 110, '5/10/20': 110, '5/11/20': 134, '5/12/20': 217, '5/13/20': 250, '5/14/20': 249, '5/15/20': 267, '5/16/20': 291, '5/17/20': 295, '5/18/20': 375, '5/19/20': 402, '5/20/20': 427, '5/21/20': 457, '5/22/20': 516, '5/23/20': 584, '5/24/20': 603, '5/25/20': 682, '5/26/20': 772, '5/27/20': 886}, 'latest': 886}\n"
     ]
    }
   ],
   "source": [
    "history = country('Nepal')"
   ]
  },
  {
   "cell_type": "code",
   "execution_count": 361,
   "metadata": {},
   "outputs": [
    {
     "name": "stdout",
     "output_type": "stream",
     "text": [
      "{'1/22/20': 0, '1/23/20': 0, '1/24/20': 0, '1/25/20': 1, '1/26/20': 1, '1/27/20': 1, '1/28/20': 1, '1/29/20': 1, '1/30/20': 1, '1/31/20': 1, '2/1/20': 1, '2/2/20': 1, '2/3/20': 1, '2/4/20': 1, '2/5/20': 1, '2/6/20': 1, '2/7/20': 1, '2/8/20': 1, '2/9/20': 1, '2/10/20': 1, '2/11/20': 1, '2/12/20': 1, '2/13/20': 1, '2/14/20': 1, '2/15/20': 1, '2/16/20': 1, '2/17/20': 1, '2/18/20': 1, '2/19/20': 1, '2/20/20': 1, '2/21/20': 1, '2/22/20': 1, '2/23/20': 1, '2/24/20': 1, '2/25/20': 1, '2/26/20': 1, '2/27/20': 1, '2/28/20': 1, '2/29/20': 1, '3/1/20': 1, '3/2/20': 1, '3/3/20': 1, '3/4/20': 1, '3/5/20': 1, '3/6/20': 1, '3/7/20': 1, '3/8/20': 1, '3/9/20': 1, '3/10/20': 1, '3/11/20': 1, '3/12/20': 1, '3/13/20': 1, '3/14/20': 1, '3/15/20': 1, '3/16/20': 1, '3/17/20': 1, '3/18/20': 1, '3/19/20': 1, '3/20/20': 1, '3/21/20': 1, '3/22/20': 1, '3/23/20': 2, '3/24/20': 2, '3/25/20': 3, '3/26/20': 3, '3/27/20': 4, '3/28/20': 5, '3/29/20': 5, '3/30/20': 5, '3/31/20': 5, '4/1/20': 5, '4/2/20': 6, '4/3/20': 6, '4/4/20': 9, '4/5/20': 9, '4/6/20': 9, '4/7/20': 9, '4/8/20': 9, '4/9/20': 9, '4/10/20': 9, '4/11/20': 9, '4/12/20': 12, '4/13/20': 14, '4/14/20': 16, '4/15/20': 16, '4/16/20': 16, '4/17/20': 30, '4/18/20': 31, '4/19/20': 31, '4/20/20': 31, '4/21/20': 43, '4/22/20': 45, '4/23/20': 48, '4/24/20': 49, '4/25/20': 49, '4/26/20': 52, '4/27/20': 52, '4/28/20': 54, '4/29/20': 57, '4/30/20': 57, '5/1/20': 59, '5/2/20': 59, '5/3/20': 75, '5/4/20': 75, '5/5/20': 82, '5/6/20': 99, '5/7/20': 101, '5/8/20': 102, '5/9/20': 110, '5/10/20': 110, '5/11/20': 134, '5/12/20': 217, '5/13/20': 250, '5/14/20': 249, '5/15/20': 267, '5/16/20': 291, '5/17/20': 295, '5/18/20': 375, '5/19/20': 402, '5/20/20': 427, '5/21/20': 457, '5/22/20': 516, '5/23/20': 584, '5/24/20': 603, '5/25/20': 682, '5/26/20': 772, '5/27/20': 886}\n"
     ]
    }
   ],
   "source": [
    "print(history)"
   ]
  },
  {
   "cell_type": "code",
   "execution_count": 362,
   "metadata": {},
   "outputs": [
    {
     "data": {
      "text/html": [
       "<div>\n",
       "<style scoped>\n",
       "    .dataframe tbody tr th:only-of-type {\n",
       "        vertical-align: middle;\n",
       "    }\n",
       "\n",
       "    .dataframe tbody tr th {\n",
       "        vertical-align: top;\n",
       "    }\n",
       "\n",
       "    .dataframe thead th {\n",
       "        text-align: right;\n",
       "    }\n",
       "</style>\n",
       "<table border=\"1\" class=\"dataframe\">\n",
       "  <thead>\n",
       "    <tr style=\"text-align: right;\">\n",
       "      <th></th>\n",
       "      <th>date</th>\n",
       "      <th>confirmed</th>\n",
       "    </tr>\n",
       "  </thead>\n",
       "  <tbody>\n",
       "    <tr>\n",
       "      <td>0</td>\n",
       "      <td>1/22/20</td>\n",
       "      <td>0</td>\n",
       "    </tr>\n",
       "    <tr>\n",
       "      <td>1</td>\n",
       "      <td>1/23/20</td>\n",
       "      <td>0</td>\n",
       "    </tr>\n",
       "    <tr>\n",
       "      <td>2</td>\n",
       "      <td>1/24/20</td>\n",
       "      <td>0</td>\n",
       "    </tr>\n",
       "    <tr>\n",
       "      <td>3</td>\n",
       "      <td>1/25/20</td>\n",
       "      <td>1</td>\n",
       "    </tr>\n",
       "    <tr>\n",
       "      <td>4</td>\n",
       "      <td>1/26/20</td>\n",
       "      <td>1</td>\n",
       "    </tr>\n",
       "  </tbody>\n",
       "</table>\n",
       "</div>"
      ],
      "text/plain": [
       "      date  confirmed\n",
       "0  1/22/20          0\n",
       "1  1/23/20          0\n",
       "2  1/24/20          0\n",
       "3  1/25/20          1\n",
       "4  1/26/20          1"
      ]
     },
     "execution_count": 362,
     "metadata": {},
     "output_type": "execute_result"
    }
   ],
   "source": [
    "wc = pd.DataFrame(list(history.items()), columns=['date','confirmed'])\n",
    "wc.head()"
   ]
  },
  {
   "cell_type": "markdown",
   "metadata": {},
   "source": [
    "Made a dataframe and then added a column by using map function.\n",
    "\n",
    "The datetime module was used to convert the date intoappropriate timeseries format."
   ]
  },
  {
   "cell_type": "code",
   "execution_count": 363,
   "metadata": {
    "scrolled": false
   },
   "outputs": [
    {
     "data": {
      "text/html": [
       "<div>\n",
       "<style scoped>\n",
       "    .dataframe tbody tr th:only-of-type {\n",
       "        vertical-align: middle;\n",
       "    }\n",
       "\n",
       "    .dataframe tbody tr th {\n",
       "        vertical-align: top;\n",
       "    }\n",
       "\n",
       "    .dataframe thead th {\n",
       "        text-align: right;\n",
       "    }\n",
       "</style>\n",
       "<table border=\"1\" class=\"dataframe\">\n",
       "  <thead>\n",
       "    <tr style=\"text-align: right;\">\n",
       "      <th></th>\n",
       "      <th>date</th>\n",
       "      <th>days</th>\n",
       "      <th>confirmed</th>\n",
       "    </tr>\n",
       "  </thead>\n",
       "  <tbody>\n",
       "    <tr>\n",
       "      <td>0</td>\n",
       "      <td>1/22/20</td>\n",
       "      <td>0</td>\n",
       "      <td>0</td>\n",
       "    </tr>\n",
       "    <tr>\n",
       "      <td>1</td>\n",
       "      <td>1/23/20</td>\n",
       "      <td>1</td>\n",
       "      <td>0</td>\n",
       "    </tr>\n",
       "    <tr>\n",
       "      <td>2</td>\n",
       "      <td>1/24/20</td>\n",
       "      <td>2</td>\n",
       "      <td>0</td>\n",
       "    </tr>\n",
       "    <tr>\n",
       "      <td>3</td>\n",
       "      <td>1/25/20</td>\n",
       "      <td>3</td>\n",
       "      <td>1</td>\n",
       "    </tr>\n",
       "    <tr>\n",
       "      <td>4</td>\n",
       "      <td>1/26/20</td>\n",
       "      <td>4</td>\n",
       "      <td>1</td>\n",
       "    </tr>\n",
       "    <tr>\n",
       "      <td>...</td>\n",
       "      <td>...</td>\n",
       "      <td>...</td>\n",
       "      <td>...</td>\n",
       "    </tr>\n",
       "    <tr>\n",
       "      <td>122</td>\n",
       "      <td>5/23/20</td>\n",
       "      <td>122</td>\n",
       "      <td>584</td>\n",
       "    </tr>\n",
       "    <tr>\n",
       "      <td>123</td>\n",
       "      <td>5/24/20</td>\n",
       "      <td>123</td>\n",
       "      <td>603</td>\n",
       "    </tr>\n",
       "    <tr>\n",
       "      <td>124</td>\n",
       "      <td>5/25/20</td>\n",
       "      <td>124</td>\n",
       "      <td>682</td>\n",
       "    </tr>\n",
       "    <tr>\n",
       "      <td>125</td>\n",
       "      <td>5/26/20</td>\n",
       "      <td>125</td>\n",
       "      <td>772</td>\n",
       "    </tr>\n",
       "    <tr>\n",
       "      <td>126</td>\n",
       "      <td>5/27/20</td>\n",
       "      <td>126</td>\n",
       "      <td>886</td>\n",
       "    </tr>\n",
       "  </tbody>\n",
       "</table>\n",
       "<p>127 rows × 3 columns</p>\n",
       "</div>"
      ],
      "text/plain": [
       "        date  days  confirmed\n",
       "0    1/22/20     0          0\n",
       "1    1/23/20     1          0\n",
       "2    1/24/20     2          0\n",
       "3    1/25/20     3          1\n",
       "4    1/26/20     4          1\n",
       "..       ...   ...        ...\n",
       "122  5/23/20   122        584\n",
       "123  5/24/20   123        603\n",
       "124  5/25/20   124        682\n",
       "125  5/26/20   125        772\n",
       "126  5/27/20   126        886\n",
       "\n",
       "[127 rows x 3 columns]"
      ]
     },
     "execution_count": 363,
     "metadata": {},
     "output_type": "execute_result"
    }
   ],
   "source": [
    "wc['days']= wc['date'].map(lambda x : (datetime.strptime(x, '%m/%d/%y') - datetime.strptime(\"1/22/20\", '%m/%d/%y')).days  )\n",
    "wc[['date','days','confirmed']]"
   ]
  },
  {
   "cell_type": "markdown",
   "metadata": {},
   "source": [
    "### The Gompertz curve or Gompertz function"
   ]
  },
  {
   "cell_type": "markdown",
   "metadata": {},
   "source": [
    "The Gompertz curve or Gompertz function, is a type of mathematical model for a time series and is named after Benjamin Gompertz (1779-1865). It is a sigmoid function which describes growth as being slowest at the start and end of a given time period. The right-hand or future value asymptote of the function is approached much more gradually by the curve than the left-hand or lower valued asymptote. This is in contrast to the simple logistic function in which both asymptotes are approached by the curve symmetrically. It is a special case of the generalised logistic function. The function was originally designed to describe human mortality, but since has been modified to be applied in biology, with regard to detailing populations. "
   ]
  },
  {
   "cell_type": "markdown",
   "metadata": {},
   "source": [
    "<img src = "img/11.png">"
   ]
  },
  {
   "cell_type": "markdown",
   "metadata": {},
   "source": [
    "where,\n",
    "\n",
    "    a is an asymptote, since\n",
    "   "
   ]
  },
  {
   "cell_type": "markdown",
   "metadata": {},
   "source": [
    "<img src = \"img/22.PNG\">"
   ]
  },
  {
   "cell_type": "markdown",
   "metadata": {},
   "source": [
    "    b sets the displacement along the x-axis (translates the graph to the left or right). Symmetry is when b =log(2).\n",
    "    c sets the growth rate (y scaling)\n",
    "    e is Euler's Number (e = 2.71828...)"
   ]
  },
  {
   "cell_type": "code",
   "execution_count": 364,
   "metadata": {},
   "outputs": [
    {
     "data": {
      "text/plain": [
       "array([0.00000000e+000, 0.00000000e+000, 0.00000000e+000, 0.00000000e+000,\n",
       "       0.00000000e+000, 0.00000000e+000, 0.00000000e+000, 0.00000000e+000,\n",
       "       0.00000000e+000, 0.00000000e+000, 0.00000000e+000, 0.00000000e+000,\n",
       "       0.00000000e+000, 0.00000000e+000, 0.00000000e+000, 0.00000000e+000,\n",
       "       0.00000000e+000, 0.00000000e+000, 0.00000000e+000, 0.00000000e+000,\n",
       "       0.00000000e+000, 0.00000000e+000, 0.00000000e+000, 0.00000000e+000,\n",
       "       0.00000000e+000, 0.00000000e+000, 0.00000000e+000, 0.00000000e+000,\n",
       "       0.00000000e+000, 0.00000000e+000, 0.00000000e+000, 0.00000000e+000,\n",
       "       0.00000000e+000, 0.00000000e+000, 0.00000000e+000, 4.82441804e-305,\n",
       "       7.98280506e-283, 3.27657075e-262, 4.35753597e-243, 2.40570155e-225,\n",
       "       6.93852878e-209, 1.29404379e-193, 1.90206055e-179, 2.64741348e-166,\n",
       "       4.13722069e-154, 8.50174047e-143, 2.66001185e-132, 1.45177743e-122,\n",
       "       1.56802739e-113, 3.76774399e-105, 2.24515825e-097, 3.66949392e-090,\n",
       "       1.80614744e-083, 2.91977249e-077, 1.68009306e-071, 3.70784248e-066,\n",
       "       3.36345582e-061, 1.33729318e-056, 2.47359144e-052, 2.24959036e-048,\n",
       "       1.05884308e-044, 2.70508693e-041, 3.92037533e-038, 3.35784504e-035,\n",
       "       1.76556857e-032, 5.90352323e-030, 1.29701842e-027, 1.93004834e-025,\n",
       "       2.00080211e-023, 1.48319161e-021, 8.05510487e-020, 3.27785091e-018,\n",
       "       1.02049066e-016, 2.47818664e-015, 4.77925537e-014, 7.44252831e-013,\n",
       "       9.50440553e-012, 1.00971532e-010, 9.04311281e-010, 6.91257974e-009,\n",
       "       4.56180352e-008, 2.62675183e-007, 1.33280358e-006, 6.01377722e-006,\n",
       "       2.43357770e-005, 8.90176903e-005, 2.96490178e-004, 9.05290192e-004,\n",
       "       2.54998125e-003, 6.66482656e-003, 1.62514289e-002, 3.71555386e-002,\n",
       "       8.00213626e-002, 1.63047343e-001, 3.15563279e-001, 5.82288208e-001,\n",
       "       1.02793481e+000, 1.74163945e+000, 2.84056492e+000, 4.47198712e+000,\n",
       "       6.81325921e+000, 1.00692439e+001, 1.44670864e+001, 2.02485185e+001,\n",
       "       2.76601862e+001, 3.69427267e+001, 4.83194563e+001, 6.19855589e+001,\n",
       "       7.80985780e+001, 9.67708602e+001, 1.18064380e+002, 1.41988140e+002,\n",
       "       1.68498139e+002, 1.97499672e+002, 2.28851638e+002, 2.62372399e+002,\n",
       "       2.97846721e+002, 3.35033317e+002, 3.73672563e+002, 4.13494021e+002,\n",
       "       4.54223457e+002, 4.95589155e+002, 5.37327364e+002, 5.79186832e+002,\n",
       "       6.20932373e+002, 6.62347541e+002, 7.03236435e+002, 7.43424748e+002,\n",
       "       7.82760149e+002, 8.21112105e+002, 8.58371250e+002, 8.94448403e+002,\n",
       "       9.29273317e+002, 9.62793251e+002, 9.94971431e+002, 1.02578546e+003,\n",
       "       1.05522570e+003, 1.08329374e+003, 1.11000087e+003, 1.13536667e+003,\n",
       "       1.15941770e+003, 1.18218624e+003, 1.20370925e+003, 1.22402734e+003,\n",
       "       1.24318387e+003, 1.26122421e+003, 1.27819504e+003, 1.29414375e+003,\n",
       "       1.30911796e+003, 1.32316508e+003, 1.33633195e+003, 1.34866457e+003,\n",
       "       1.36020783e+003, 1.37100535e+003, 1.38109930e+003, 1.39053035e+003,\n",
       "       1.39933752e+003, 1.40755818e+003, 1.41522804e+003, 1.42238106e+003,\n",
       "       1.42904955e+003, 1.43526416e+003, 1.44105389e+003, 1.44644615e+003,\n",
       "       1.45146683e+003, 1.45614031e+003, 1.46048956e+003, 1.46453617e+003,\n",
       "       1.46830040e+003, 1.47180130e+003, 1.47505670e+003, 1.47808331e+003,\n",
       "       1.48089678e+003, 1.48351175e+003, 1.48594190e+003, 1.48820002e+003,\n",
       "       1.49029804e+003, 1.49224711e+003, 1.49405762e+003, 1.49573928e+003,\n",
       "       1.49730112e+003, 1.49875157e+003, 1.50009847e+003, 1.50134912e+003,\n",
       "       1.50251035e+003, 1.50358847e+003, 1.50458938e+003, 1.50551856e+003,\n",
       "       1.50638112e+003, 1.50718179e+003, 1.50792499e+003, 1.50861482e+003,\n",
       "       1.50925508e+003, 1.50984933e+003, 1.51040084e+003, 1.51091269e+003,\n",
       "       1.51138771e+003, 1.51182853e+003, 1.51223762e+003, 1.51261725e+003])"
      ]
     },
     "execution_count": 364,
     "metadata": {},
     "output_type": "execute_result"
    }
   ],
   "source": [
    "def gompertz(a, c, t, t_0):\n",
    "    Q = a * np.exp(-np.exp(-c*(t-t_0)))\n",
    "    return Q\n",
    "\n",
    "x = list(wc['days'])\n",
    "y = list(wc['confirmed'])\n",
    "\n",
    "\n",
    "x_train, x_test, y_train, y_test = train_test_split(x,y,train_size=0.85, test_size=0.15, shuffle=False)\n",
    "\n",
    "x_test_added = x_test + list(range((max(x_test)+1), 200))\n",
    "\n",
    "popt, pcov = curve_fit(gompertz, x_train, y_train, method='trf', bounds=([5, 0, 0],[30*max(y_train),0.15, 245]))\n",
    "a, estimated_c, estimated_t_0 = popt\n",
    "y_pred = gompertz(a, estimated_c, x_train+x_test_added, estimated_t_0)\n",
    "\n",
    "y_pred"
   ]
  },
  {
   "cell_type": "code",
   "execution_count": 365,
   "metadata": {},
   "outputs": [
    {
     "data": {
      "text/plain": [
       "<matplotlib.legend.Legend at 0x4140d3a0c8>"
      ]
     },
     "execution_count": 365,
     "metadata": {},
     "output_type": "execute_result"
    },
    {
     "data": {
      "image/png": "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\n",
      "text/plain": [
       "<Figure size 432x288 with 1 Axes>"
      ]
     },
     "metadata": {
      "needs_background": "light"
     },
     "output_type": "display_data"
    }
   ],
   "source": [
    "plt.plot(x_train+x_test_added, y_pred, linewidth=2, label='predicted') \n",
    "plt.plot(x, y, linewidth=2, color='r', linestyle='dotted', label='confirmed')\n",
    "plt.title('prediction vs confirmed data on covid-19 cases in Nepal\\n')\n",
    "plt.xlabel('days since January 22 2020')\n",
    "plt.ylabel('confirmed positive cases')\n",
    "plt.legend(loc='upper left') "
   ]
  },
  {
   "cell_type": "markdown",
   "metadata": {},
   "source": [
    "#### After fitting a curve, we see a projection of confirmed cases for 200 days since late January. We can obsereve how the trend changes over time and we can note that the we are approaching the peak of the curve and curve is expected to flatten within the next 50 days. The maximum cases is projected to be aprroximately 1500. "
   ]
  },
  {
   "cell_type": "markdown",
   "metadata": {},
   "source": [
    "-----------------------------------------------------------------------------------------------------------------"
   ]
  },
  {
   "cell_type": "markdown",
   "metadata": {},
   "source": [
    "##### After this we similarly train a model to predict the covid cases fot US."
   ]
  },
  {
   "cell_type": "code",
   "execution_count": 366,
   "metadata": {},
   "outputs": [
    {
     "name": "stdout",
     "output_type": "stream",
     "text": [
      "{'country': 'US', 'country_code': 'US', 'province': '', 'coordinates': {'lat': '37.0902', 'long': '-95.7129'}, 'history': {'1/22/20': 1, '1/23/20': 1, '1/24/20': 2, '1/25/20': 2, '1/26/20': 5, '1/27/20': 5, '1/28/20': 5, '1/29/20': 5, '1/30/20': 5, '1/31/20': 7, '2/1/20': 8, '2/2/20': 8, '2/3/20': 11, '2/4/20': 11, '2/5/20': 11, '2/6/20': 11, '2/7/20': 11, '2/8/20': 11, '2/9/20': 11, '2/10/20': 11, '2/11/20': 12, '2/12/20': 12, '2/13/20': 13, '2/14/20': 13, '2/15/20': 13, '2/16/20': 13, '2/17/20': 13, '2/18/20': 13, '2/19/20': 13, '2/20/20': 13, '2/21/20': 15, '2/22/20': 15, '2/23/20': 15, '2/24/20': 51, '2/25/20': 51, '2/26/20': 57, '2/27/20': 58, '2/28/20': 60, '2/29/20': 68, '3/1/20': 74, '3/2/20': 98, '3/3/20': 118, '3/4/20': 149, '3/5/20': 219, '3/6/20': 267, '3/7/20': 403, '3/8/20': 519, '3/9/20': 588, '3/10/20': 962, '3/11/20': 1285, '3/12/20': 1667, '3/13/20': 2181, '3/14/20': 2729, '3/15/20': 3536, '3/16/20': 4661, '3/17/20': 6437, '3/18/20': 7781, '3/19/20': 13748, '3/20/20': 19274, '3/21/20': 25600, '3/22/20': 33280, '3/23/20': 43862, '3/24/20': 53925, '3/25/20': 65844, '3/26/20': 83836, '3/27/20': 101962, '3/28/20': 121786, '3/29/20': 140910, '3/30/20': 162147, '3/31/20': 188172, '4/1/20': 213602, '4/2/20': 244008, '4/3/20': 275798, '4/4/20': 309027, '4/5/20': 336802, '4/6/20': 366317, '4/7/20': 397121, '4/8/20': 428654, '4/9/20': 463327, '4/10/20': 496846, '4/11/20': 526776, '4/12/20': 555313, '4/13/20': 580624, '4/14/20': 607670, '4/15/20': 636674, '4/16/20': 667981, '4/17/20': 700062, '4/18/20': 732590, '4/19/20': 758809, '4/20/20': 784708, '4/21/20': 811865, '4/22/20': 840351, '4/23/20': 869170, '4/24/20': 905358, '4/25/20': 938154, '4/26/20': 965785, '4/27/20': 988197, '4/28/20': 1012582, '4/29/20': 1039909, '4/30/20': 1069424, '5/1/20': 1103461, '5/2/20': 1132539, '5/3/20': 1158040, '5/4/20': 1180375, '5/5/20': 1204351, '5/6/20': 1229331, '5/7/20': 1257023, '5/8/20': 1283929, '5/9/20': 1309550, '5/10/20': 1329260, '5/11/20': 1347881, '5/12/20': 1369376, '5/13/20': 1390406, '5/14/20': 1417774, '5/15/20': 1442824, '5/16/20': 1467820, '5/17/20': 1486757, '5/18/20': 1508308, '5/19/20': 1528568, '5/20/20': 1551853, '5/21/20': 1577147, '5/22/20': 1600937, '5/23/20': 1622612, '5/24/20': 1643246, '5/25/20': 1662302, '5/26/20': 1680913, '5/27/20': 1699176}, 'latest': 1699176}\n"
     ]
    }
   ],
   "source": [
    "US = country(\"US\")"
   ]
  },
  {
   "cell_type": "code",
   "execution_count": 367,
   "metadata": {},
   "outputs": [],
   "source": [
    "us = pd.DataFrame(list(US.items()), columns=['date','confirmed'])\n"
   ]
  },
  {
   "cell_type": "code",
   "execution_count": 368,
   "metadata": {},
   "outputs": [
    {
     "data": {
      "text/html": [
       "<div>\n",
       "<style scoped>\n",
       "    .dataframe tbody tr th:only-of-type {\n",
       "        vertical-align: middle;\n",
       "    }\n",
       "\n",
       "    .dataframe tbody tr th {\n",
       "        vertical-align: top;\n",
       "    }\n",
       "\n",
       "    .dataframe thead th {\n",
       "        text-align: right;\n",
       "    }\n",
       "</style>\n",
       "<table border=\"1\" class=\"dataframe\">\n",
       "  <thead>\n",
       "    <tr style=\"text-align: right;\">\n",
       "      <th></th>\n",
       "      <th>date</th>\n",
       "      <th>days</th>\n",
       "      <th>confirmed</th>\n",
       "    </tr>\n",
       "  </thead>\n",
       "  <tbody>\n",
       "    <tr>\n",
       "      <td>0</td>\n",
       "      <td>1/22/20</td>\n",
       "      <td>0</td>\n",
       "      <td>1</td>\n",
       "    </tr>\n",
       "    <tr>\n",
       "      <td>1</td>\n",
       "      <td>1/23/20</td>\n",
       "      <td>1</td>\n",
       "      <td>1</td>\n",
       "    </tr>\n",
       "    <tr>\n",
       "      <td>2</td>\n",
       "      <td>1/24/20</td>\n",
       "      <td>2</td>\n",
       "      <td>2</td>\n",
       "    </tr>\n",
       "    <tr>\n",
       "      <td>3</td>\n",
       "      <td>1/25/20</td>\n",
       "      <td>3</td>\n",
       "      <td>2</td>\n",
       "    </tr>\n",
       "    <tr>\n",
       "      <td>4</td>\n",
       "      <td>1/26/20</td>\n",
       "      <td>4</td>\n",
       "      <td>5</td>\n",
       "    </tr>\n",
       "    <tr>\n",
       "      <td>...</td>\n",
       "      <td>...</td>\n",
       "      <td>...</td>\n",
       "      <td>...</td>\n",
       "    </tr>\n",
       "    <tr>\n",
       "      <td>122</td>\n",
       "      <td>5/23/20</td>\n",
       "      <td>122</td>\n",
       "      <td>1622612</td>\n",
       "    </tr>\n",
       "    <tr>\n",
       "      <td>123</td>\n",
       "      <td>5/24/20</td>\n",
       "      <td>123</td>\n",
       "      <td>1643246</td>\n",
       "    </tr>\n",
       "    <tr>\n",
       "      <td>124</td>\n",
       "      <td>5/25/20</td>\n",
       "      <td>124</td>\n",
       "      <td>1662302</td>\n",
       "    </tr>\n",
       "    <tr>\n",
       "      <td>125</td>\n",
       "      <td>5/26/20</td>\n",
       "      <td>125</td>\n",
       "      <td>1680913</td>\n",
       "    </tr>\n",
       "    <tr>\n",
       "      <td>126</td>\n",
       "      <td>5/27/20</td>\n",
       "      <td>126</td>\n",
       "      <td>1699176</td>\n",
       "    </tr>\n",
       "  </tbody>\n",
       "</table>\n",
       "<p>127 rows × 3 columns</p>\n",
       "</div>"
      ],
      "text/plain": [
       "        date  days  confirmed\n",
       "0    1/22/20     0          1\n",
       "1    1/23/20     1          1\n",
       "2    1/24/20     2          2\n",
       "3    1/25/20     3          2\n",
       "4    1/26/20     4          5\n",
       "..       ...   ...        ...\n",
       "122  5/23/20   122    1622612\n",
       "123  5/24/20   123    1643246\n",
       "124  5/25/20   124    1662302\n",
       "125  5/26/20   125    1680913\n",
       "126  5/27/20   126    1699176\n",
       "\n",
       "[127 rows x 3 columns]"
      ]
     },
     "execution_count": 368,
     "metadata": {},
     "output_type": "execute_result"
    }
   ],
   "source": [
    "us['days']= us['date'].map(lambda x : (datetime.strptime(x, '%m/%d/%y') - datetime.strptime(\"1/22/20\", '%m/%d/%y')).days  )\n",
    "us[['date','days','confirmed']]"
   ]
  },
  {
   "cell_type": "code",
   "execution_count": 369,
   "metadata": {},
   "outputs": [
    {
     "data": {
      "text/plain": [
       "array([6.34261556e-29, 3.05398635e-27, 1.21731925e-25, 4.05399077e-24,\n",
       "       1.13791253e-22, 2.71458962e-21, 5.54770517e-20, 9.78617889e-19,\n",
       "       1.50079169e-17, 2.01465208e-16, 2.38271642e-15, 2.49815891e-14,\n",
       "       2.33558170e-13, 1.95805466e-12, 1.47985225e-11, 1.01337957e-10,\n",
       "       6.31793998e-10, 3.60259820e-09, 1.88705100e-08, 9.11753042e-08,\n",
       "       4.07950214e-07, 1.69668272e-06, 6.58272086e-06, 2.39052832e-05,\n",
       "       8.15204393e-05, 2.61851763e-04, 7.94562568e-04, 2.28396657e-03,\n",
       "       6.23572666e-03, 1.62110372e-02, 4.02252233e-02, 9.54854023e-02,\n",
       "       2.17302713e-01, 4.75090085e-01, 9.99813265e-01, 2.02909301e+00,\n",
       "       3.97826554e+00, 7.54788826e+00, 1.38800974e+01, 2.47774426e+01,\n",
       "       4.29978408e+01, 7.26376224e+01, 1.19610912e+02, 1.92227638e+02,\n",
       "       3.01864417e+02, 4.63712895e+02, 6.97579600e+02, 1.02870102e+03,\n",
       "       1.48852866e+03, 2.11543220e+03, 2.95526607e+03, 4.06174543e+03,\n",
       "       5.49658325e+03, 7.32934959e+03, 9.63702701e+03, 1.25032520e+04,\n",
       "       1.60172488e+04, 2.02724787e+04, 2.53650448e+04, 3.13919021e+04,\n",
       "       3.84489384e+04, 4.66289901e+04, 5.60198672e+04, 6.67024528e+04,\n",
       "       7.87489437e+04, 9.22212849e+04, 1.07169845e+05, 1.23632363e+05,\n",
       "       1.41633197e+05, 1.61182868e+05, 1.82277913e+05, 2.04901022e+05,\n",
       "       2.29021453e+05, 2.54595678e+05, 2.81568240e+05, 3.09872788e+05,\n",
       "       3.39433239e+05, 3.70165040e+05, 4.01976493e+05, 4.34770101e+05,\n",
       "       4.68443920e+05, 5.02892869e+05, 5.38009993e+05, 5.73687655e+05,\n",
       "       6.09818634e+05, 6.46297133e+05, 6.83019669e+05, 7.19885872e+05,\n",
       "       7.56799152e+05, 7.93667273e+05, 8.30402818e+05, 8.66923544e+05,\n",
       "       9.03152653e+05, 9.39018974e+05, 9.74457061e+05, 1.00940722e+06,\n",
       "       1.04381549e+06, 1.07763354e+06, 1.11081854e+06, 1.14333298e+06,\n",
       "       1.17514448e+06, 1.20622556e+06, 1.23655336e+06, 1.26610942e+06,\n",
       "       1.29487937e+06, 1.32285266e+06, 1.35002230e+06, 1.37638456e+06,\n",
       "       1.40193870e+06, 1.42668672e+06, 1.45063307e+06, 1.47378445e+06,\n",
       "       1.49614953e+06, 1.51773875e+06, 1.53856409e+06, 1.55863889e+06,\n",
       "       1.57797766e+06, 1.59659590e+06, 1.61450995e+06, 1.63173681e+06,\n",
       "       1.64829407e+06, 1.66419970e+06, 1.67947203e+06, 1.69412957e+06,\n",
       "       1.70819095e+06, 1.72167484e+06, 1.73459988e+06, 1.74698460e+06,\n",
       "       1.75884736e+06, 1.77020632e+06, 1.78107936e+06, 1.79148409e+06,\n",
       "       1.80143778e+06, 1.81095734e+06, 1.82005930e+06, 1.82875982e+06,\n",
       "       1.83707459e+06, 1.84501893e+06, 1.85260771e+06, 1.85985533e+06,\n",
       "       1.86677580e+06, 1.87338265e+06, 1.87968898e+06, 1.88570745e+06,\n",
       "       1.89145027e+06, 1.89692924e+06, 1.90215573e+06, 1.90714068e+06,\n",
       "       1.91189464e+06, 1.91642774e+06, 1.92074973e+06, 1.92486999e+06,\n",
       "       1.92879749e+06, 1.93254089e+06, 1.93610846e+06, 1.93950815e+06,\n",
       "       1.94274758e+06, 1.94583404e+06, 1.94877452e+06, 1.95157571e+06,\n",
       "       1.95424403e+06, 1.95678559e+06, 1.95920627e+06, 1.96151168e+06,\n",
       "       1.96370716e+06, 1.96579785e+06, 1.96778864e+06, 1.96968421e+06,\n",
       "       1.97148902e+06, 1.97320735e+06, 1.97484326e+06, 1.97640065e+06,\n",
       "       1.97788323e+06, 1.97929453e+06, 1.98063793e+06, 1.98191666e+06,\n",
       "       1.98313380e+06, 1.98429226e+06, 1.98539486e+06, 1.98644425e+06,\n",
       "       1.98744297e+06, 1.98839346e+06, 1.98929801e+06, 1.99015882e+06,\n",
       "       1.99097800e+06, 1.99175754e+06, 1.99249935e+06, 1.99320523e+06,\n",
       "       1.99387692e+06, 1.99451606e+06, 1.99512422e+06, 1.99570289e+06,\n",
       "       1.99625349e+06, 1.99677738e+06, 1.99727585e+06, 1.99775013e+06,\n",
       "       1.99820138e+06, 1.99863071e+06, 1.99903919e+06, 1.99942783e+06,\n",
       "       1.99979758e+06, 2.00014937e+06, 2.00048405e+06, 2.00080246e+06,\n",
       "       2.00110540e+06, 2.00139360e+06, 2.00166778e+06, 2.00192862e+06,\n",
       "       2.00217678e+06, 2.00241286e+06, 2.00263745e+06, 2.00285112e+06,\n",
       "       2.00305438e+06, 2.00324775e+06, 2.00343171e+06, 2.00360671e+06,\n",
       "       2.00377319e+06, 2.00393156e+06, 2.00408222e+06, 2.00422554e+06,\n",
       "       2.00436189e+06, 2.00449159e+06, 2.00461497e+06, 2.00473235e+06,\n",
       "       2.00484400e+06])"
      ]
     },
     "execution_count": 369,
     "metadata": {},
     "output_type": "execute_result"
    }
   ],
   "source": [
    "x = list(us['days'])\n",
    "y = list(us['confirmed'])\n",
    "\n",
    "\n",
    "x_train, x_test, y_train, y_test = train_test_split(x,y,train_size=0.85, test_size=0.15, shuffle=False)\n",
    "\n",
    "x_test_added = x_test + list(range((max(x_test)+1), 225))\n",
    "\n",
    "popt, pcov = curve_fit(gompertz, x_train, y_train, method='trf', bounds=([1500000, 0, 0],[2*max(y_train),0.1, 175]))\n",
    "a, estimated_c, estimated_t_0 = popt\n",
    "y_pred = gompertz(a, estimated_c, x_train+x_test_added, estimated_t_0)\n",
    "\n",
    "y_pred"
   ]
  },
  {
   "cell_type": "code",
   "execution_count": 370,
   "metadata": {},
   "outputs": [
    {
     "data": {
      "text/plain": [
       "<matplotlib.legend.Legend at 0x4140818c88>"
      ]
     },
     "execution_count": 370,
     "metadata": {},
     "output_type": "execute_result"
    },
    {
     "data": {
      "image/png": "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\n",
      "text/plain": [
       "<Figure size 432x288 with 1 Axes>"
      ]
     },
     "metadata": {
      "needs_background": "light"
     },
     "output_type": "display_data"
    }
   ],
   "source": [
    "plt.plot(x_train+x_test_added, y_pred, linewidth=2, label='predicted', color = 'y', ) \n",
    "plt.plot(x, y, linewidth=2, color='r', linestyle='dotted', label='confirmed')\n",
    "plt.title('prediction vs confirmed data on covid-19 cases in US\\n')\n",
    "plt.xlabel('days since January 22 2020')\n",
    "plt.ylabel('confirmed positive cases')\n",
    "plt.legend(loc='upper left') "
   ]
  },
  {
   "cell_type": "markdown",
   "metadata": {},
   "source": [
    "#### We trained a model to predict the covid cases fot US andplotted the curve. We can see that the predicted number of cases is approximately 2 million, 250000 additional cases than the current cases.  \n",
    "#### We can obsereve how the trend changes over time and we can note that the curve is flattening and is expected to completely flatten within the next 100 days. "
   ]
  },
  {
   "cell_type": "markdown",
   "metadata": {},
   "source": [
    "----------------------------------------------------------------"
   ]
  },
  {
   "cell_type": "markdown",
   "metadata": {},
   "source": [
    "### Disscussion:"
   ]
  },
  {
   "cell_type": "markdown",
   "metadata": {},
   "source": [
    "We were able to create a model for the prediction of Covid-19 cases using Gompertz function and also observe how the trend is changing and is expected to change over time, how and when the curve is flattening. Although the prediction is approximate and there probably is many complex variable involved, but it does give us a idea of trend that is very close to accurate.\n",
    "\n",
    "Going furthur we can easily create a prediction model for any other country. We can simply enter the country's name in the function : country(\"country's name\") to extract the data we need for that country.\n",
    "\n",
    "I plan to continue improving by adding a logistic function in addition to Gompertz function and comparing them side by side."
   ]
  },
  {
   "cell_type": "markdown",
   "metadata": {},
   "source": [
    "----------------------------------------------------------------------------------------------"
   ]
  },
  {
   "cell_type": "code",
   "execution_count": null,
   "metadata": {},
   "outputs": [],
   "source": []
  }
 ],
 "metadata": {
  "kernelspec": {
   "display_name": "Python 3",
   "language": "python",
   "name": "python3"
  },
  "language_info": {
   "codemirror_mode": {
    "name": "ipython",
    "version": 3
   },
   "file_extension": ".py",
   "mimetype": "text/x-python",
   "name": "python",
   "nbconvert_exporter": "python",
   "pygments_lexer": "ipython3",
   "version": "3.7.4"
  }
 },
 "nbformat": 4,
 "nbformat_minor": 2
}
